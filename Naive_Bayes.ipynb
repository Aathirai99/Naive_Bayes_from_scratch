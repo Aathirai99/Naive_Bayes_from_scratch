{
  "nbformat": 4,
  "nbformat_minor": 0,
  "metadata": {
    "colab": {
      "provenance": []
    },
    "kernelspec": {
      "name": "python3",
      "display_name": "Python 3"
    },
    "language_info": {
      "name": "python"
    }
  },
  "cells": [
    {
      "cell_type": "markdown",
      "source": [
        "# Import libraries"
      ],
      "metadata": {
        "id": "LTo1E-HiWi1D"
      }
    },
    {
      "cell_type": "code",
      "execution_count": 39,
      "metadata": {
        "id": "W_izVr3yIdoB"
      },
      "outputs": [],
      "source": [
        "import pandas as pd\n",
        "import numpy as np\n",
        "import matplotlib.pyplot as plt\n",
        "import seaborn as sns\n",
        "from math import exp, sqrt, pi\n"
      ]
    },
    {
      "cell_type": "code",
      "source": [
        "import kagglehub\n",
        "import os\n",
        "import zipfile"
      ],
      "metadata": {
        "id": "56ObYXjhIn_i"
      },
      "execution_count": 40,
      "outputs": []
    },
    {
      "cell_type": "markdown",
      "source": [
        "## Prerequisite conditions to apply Naive-Bayes classifier:\n",
        "\n",
        "Ideally, the dependent variable (target Y) should be evenly distributed across classes.\n",
        "\n",
        "Each feature must be independent of the others, given the class label.\n",
        "\n",
        "Assumes continuous features follow a normal (Gaussian) distribution.\n",
        "\n",
        "No Multicollinearity between variables.\n"
      ],
      "metadata": {
        "id": "ajh3ws7_JYab"
      }
    },
    {
      "cell_type": "markdown",
      "source": [
        "# Import dataset"
      ],
      "metadata": {
        "id": "QsRarZF_XcBo"
      }
    },
    {
      "cell_type": "code",
      "source": [
        "# Import dataset from kaggle\n",
        "path = kagglehub.dataset_download(\"zeeshier/weather-forecast-dataset\")\n",
        "\n",
        "print(\"Path to dataset files:\", path)"
      ],
      "metadata": {
        "colab": {
          "base_uri": "https://localhost:8080/"
        },
        "id": "oPePwWonNUM-",
        "outputId": "60ef005a-d367-4425-858f-e5c320ea5ce9"
      },
      "execution_count": 41,
      "outputs": [
        {
          "output_type": "stream",
          "name": "stdout",
          "text": [
            "Warning: Looks like you're using an outdated `kagglehub` version (installed: 0.3.6), please consider upgrading to the latest version (0.3.7).\n",
            "Path to dataset files: /root/.cache/kagglehub/datasets/zeeshier/weather-forecast-dataset/versions/1\n"
          ]
        }
      ]
    },
    {
      "cell_type": "code",
      "source": [
        "zip_path = \"{path}.zip\"\n",
        "if os.path.exists(zip_path):\n",
        "    with zipfile.ZipFile(zip_path, 'r') as zip_ref:\n",
        "        zip_ref.extractall(path)\n",
        "\n",
        "# List extracted files\n",
        "print(\"Extracted files:\", os.listdir(path))"
      ],
      "metadata": {
        "colab": {
          "base_uri": "https://localhost:8080/"
        },
        "id": "XoTN66JxNWkC",
        "outputId": "f462a0d6-0e47-46f6-b4bd-4a32feb9a2ff"
      },
      "execution_count": 42,
      "outputs": [
        {
          "output_type": "stream",
          "name": "stdout",
          "text": [
            "Extracted files: ['weather_forecast_data.csv']\n"
          ]
        }
      ]
    },
    {
      "cell_type": "code",
      "source": [
        "# Read file in csv\n",
        "csv_file_path = os.path.join(path, \"weather_forecast_data.csv\")\n",
        "df = pd.read_csv(csv_file_path)"
      ],
      "metadata": {
        "id": "AejSWgVENp7F"
      },
      "execution_count": 43,
      "outputs": []
    },
    {
      "cell_type": "code",
      "source": [
        "df.head()"
      ],
      "metadata": {
        "colab": {
          "base_uri": "https://localhost:8080/",
          "height": 204
        },
        "id": "PlBS5-eHNxgF",
        "outputId": "009d695b-0762-4c59-ef8f-37db9f9add50"
      },
      "execution_count": 44,
      "outputs": [
        {
          "output_type": "execute_result",
          "data": {
            "text/plain": [
              "   Temperature   Humidity  Wind_Speed  Cloud_Cover     Pressure     Rain\n",
              "0    23.720338  89.592641    7.335604    50.501694  1032.378759     rain\n",
              "1    27.879734  46.489704    5.952484     4.990053   992.614190  no rain\n",
              "2    25.069084  83.072843    1.371992    14.855784  1007.231620  no rain\n",
              "3    23.622080  74.367758    7.050551    67.255282   982.632013     rain\n",
              "4    20.591370  96.858822    4.643921    47.676444   980.825142  no rain"
            ],
            "text/html": [
              "\n",
              "  <div id=\"df-1e7ef053-4070-4761-876f-819b2aeaaf08\" class=\"colab-df-container\">\n",
              "    <div>\n",
              "<style scoped>\n",
              "    .dataframe tbody tr th:only-of-type {\n",
              "        vertical-align: middle;\n",
              "    }\n",
              "\n",
              "    .dataframe tbody tr th {\n",
              "        vertical-align: top;\n",
              "    }\n",
              "\n",
              "    .dataframe thead th {\n",
              "        text-align: right;\n",
              "    }\n",
              "</style>\n",
              "<table border=\"1\" class=\"dataframe\">\n",
              "  <thead>\n",
              "    <tr style=\"text-align: right;\">\n",
              "      <th></th>\n",
              "      <th>Temperature</th>\n",
              "      <th>Humidity</th>\n",
              "      <th>Wind_Speed</th>\n",
              "      <th>Cloud_Cover</th>\n",
              "      <th>Pressure</th>\n",
              "      <th>Rain</th>\n",
              "    </tr>\n",
              "  </thead>\n",
              "  <tbody>\n",
              "    <tr>\n",
              "      <th>0</th>\n",
              "      <td>23.720338</td>\n",
              "      <td>89.592641</td>\n",
              "      <td>7.335604</td>\n",
              "      <td>50.501694</td>\n",
              "      <td>1032.378759</td>\n",
              "      <td>rain</td>\n",
              "    </tr>\n",
              "    <tr>\n",
              "      <th>1</th>\n",
              "      <td>27.879734</td>\n",
              "      <td>46.489704</td>\n",
              "      <td>5.952484</td>\n",
              "      <td>4.990053</td>\n",
              "      <td>992.614190</td>\n",
              "      <td>no rain</td>\n",
              "    </tr>\n",
              "    <tr>\n",
              "      <th>2</th>\n",
              "      <td>25.069084</td>\n",
              "      <td>83.072843</td>\n",
              "      <td>1.371992</td>\n",
              "      <td>14.855784</td>\n",
              "      <td>1007.231620</td>\n",
              "      <td>no rain</td>\n",
              "    </tr>\n",
              "    <tr>\n",
              "      <th>3</th>\n",
              "      <td>23.622080</td>\n",
              "      <td>74.367758</td>\n",
              "      <td>7.050551</td>\n",
              "      <td>67.255282</td>\n",
              "      <td>982.632013</td>\n",
              "      <td>rain</td>\n",
              "    </tr>\n",
              "    <tr>\n",
              "      <th>4</th>\n",
              "      <td>20.591370</td>\n",
              "      <td>96.858822</td>\n",
              "      <td>4.643921</td>\n",
              "      <td>47.676444</td>\n",
              "      <td>980.825142</td>\n",
              "      <td>no rain</td>\n",
              "    </tr>\n",
              "  </tbody>\n",
              "</table>\n",
              "</div>\n",
              "    <div class=\"colab-df-buttons\">\n",
              "\n",
              "  <div class=\"colab-df-container\">\n",
              "    <button class=\"colab-df-convert\" onclick=\"convertToInteractive('df-1e7ef053-4070-4761-876f-819b2aeaaf08')\"\n",
              "            title=\"Convert this dataframe to an interactive table.\"\n",
              "            style=\"display:none;\">\n",
              "\n",
              "  <svg xmlns=\"http://www.w3.org/2000/svg\" height=\"24px\" viewBox=\"0 -960 960 960\">\n",
              "    <path d=\"M120-120v-720h720v720H120Zm60-500h600v-160H180v160Zm220 220h160v-160H400v160Zm0 220h160v-160H400v160ZM180-400h160v-160H180v160Zm440 0h160v-160H620v160ZM180-180h160v-160H180v160Zm440 0h160v-160H620v160Z\"/>\n",
              "  </svg>\n",
              "    </button>\n",
              "\n",
              "  <style>\n",
              "    .colab-df-container {\n",
              "      display:flex;\n",
              "      gap: 12px;\n",
              "    }\n",
              "\n",
              "    .colab-df-convert {\n",
              "      background-color: #E8F0FE;\n",
              "      border: none;\n",
              "      border-radius: 50%;\n",
              "      cursor: pointer;\n",
              "      display: none;\n",
              "      fill: #1967D2;\n",
              "      height: 32px;\n",
              "      padding: 0 0 0 0;\n",
              "      width: 32px;\n",
              "    }\n",
              "\n",
              "    .colab-df-convert:hover {\n",
              "      background-color: #E2EBFA;\n",
              "      box-shadow: 0px 1px 2px rgba(60, 64, 67, 0.3), 0px 1px 3px 1px rgba(60, 64, 67, 0.15);\n",
              "      fill: #174EA6;\n",
              "    }\n",
              "\n",
              "    .colab-df-buttons div {\n",
              "      margin-bottom: 4px;\n",
              "    }\n",
              "\n",
              "    [theme=dark] .colab-df-convert {\n",
              "      background-color: #3B4455;\n",
              "      fill: #D2E3FC;\n",
              "    }\n",
              "\n",
              "    [theme=dark] .colab-df-convert:hover {\n",
              "      background-color: #434B5C;\n",
              "      box-shadow: 0px 1px 3px 1px rgba(0, 0, 0, 0.15);\n",
              "      filter: drop-shadow(0px 1px 2px rgba(0, 0, 0, 0.3));\n",
              "      fill: #FFFFFF;\n",
              "    }\n",
              "  </style>\n",
              "\n",
              "    <script>\n",
              "      const buttonEl =\n",
              "        document.querySelector('#df-1e7ef053-4070-4761-876f-819b2aeaaf08 button.colab-df-convert');\n",
              "      buttonEl.style.display =\n",
              "        google.colab.kernel.accessAllowed ? 'block' : 'none';\n",
              "\n",
              "      async function convertToInteractive(key) {\n",
              "        const element = document.querySelector('#df-1e7ef053-4070-4761-876f-819b2aeaaf08');\n",
              "        const dataTable =\n",
              "          await google.colab.kernel.invokeFunction('convertToInteractive',\n",
              "                                                    [key], {});\n",
              "        if (!dataTable) return;\n",
              "\n",
              "        const docLinkHtml = 'Like what you see? Visit the ' +\n",
              "          '<a target=\"_blank\" href=https://colab.research.google.com/notebooks/data_table.ipynb>data table notebook</a>'\n",
              "          + ' to learn more about interactive tables.';\n",
              "        element.innerHTML = '';\n",
              "        dataTable['output_type'] = 'display_data';\n",
              "        await google.colab.output.renderOutput(dataTable, element);\n",
              "        const docLink = document.createElement('div');\n",
              "        docLink.innerHTML = docLinkHtml;\n",
              "        element.appendChild(docLink);\n",
              "      }\n",
              "    </script>\n",
              "  </div>\n",
              "\n",
              "\n",
              "<div id=\"df-0b0ab970-7618-479d-b4dc-2483f1d96854\">\n",
              "  <button class=\"colab-df-quickchart\" onclick=\"quickchart('df-0b0ab970-7618-479d-b4dc-2483f1d96854')\"\n",
              "            title=\"Suggest charts\"\n",
              "            style=\"display:none;\">\n",
              "\n",
              "<svg xmlns=\"http://www.w3.org/2000/svg\" height=\"24px\"viewBox=\"0 0 24 24\"\n",
              "     width=\"24px\">\n",
              "    <g>\n",
              "        <path d=\"M19 3H5c-1.1 0-2 .9-2 2v14c0 1.1.9 2 2 2h14c1.1 0 2-.9 2-2V5c0-1.1-.9-2-2-2zM9 17H7v-7h2v7zm4 0h-2V7h2v10zm4 0h-2v-4h2v4z\"/>\n",
              "    </g>\n",
              "</svg>\n",
              "  </button>\n",
              "\n",
              "<style>\n",
              "  .colab-df-quickchart {\n",
              "      --bg-color: #E8F0FE;\n",
              "      --fill-color: #1967D2;\n",
              "      --hover-bg-color: #E2EBFA;\n",
              "      --hover-fill-color: #174EA6;\n",
              "      --disabled-fill-color: #AAA;\n",
              "      --disabled-bg-color: #DDD;\n",
              "  }\n",
              "\n",
              "  [theme=dark] .colab-df-quickchart {\n",
              "      --bg-color: #3B4455;\n",
              "      --fill-color: #D2E3FC;\n",
              "      --hover-bg-color: #434B5C;\n",
              "      --hover-fill-color: #FFFFFF;\n",
              "      --disabled-bg-color: #3B4455;\n",
              "      --disabled-fill-color: #666;\n",
              "  }\n",
              "\n",
              "  .colab-df-quickchart {\n",
              "    background-color: var(--bg-color);\n",
              "    border: none;\n",
              "    border-radius: 50%;\n",
              "    cursor: pointer;\n",
              "    display: none;\n",
              "    fill: var(--fill-color);\n",
              "    height: 32px;\n",
              "    padding: 0;\n",
              "    width: 32px;\n",
              "  }\n",
              "\n",
              "  .colab-df-quickchart:hover {\n",
              "    background-color: var(--hover-bg-color);\n",
              "    box-shadow: 0 1px 2px rgba(60, 64, 67, 0.3), 0 1px 3px 1px rgba(60, 64, 67, 0.15);\n",
              "    fill: var(--button-hover-fill-color);\n",
              "  }\n",
              "\n",
              "  .colab-df-quickchart-complete:disabled,\n",
              "  .colab-df-quickchart-complete:disabled:hover {\n",
              "    background-color: var(--disabled-bg-color);\n",
              "    fill: var(--disabled-fill-color);\n",
              "    box-shadow: none;\n",
              "  }\n",
              "\n",
              "  .colab-df-spinner {\n",
              "    border: 2px solid var(--fill-color);\n",
              "    border-color: transparent;\n",
              "    border-bottom-color: var(--fill-color);\n",
              "    animation:\n",
              "      spin 1s steps(1) infinite;\n",
              "  }\n",
              "\n",
              "  @keyframes spin {\n",
              "    0% {\n",
              "      border-color: transparent;\n",
              "      border-bottom-color: var(--fill-color);\n",
              "      border-left-color: var(--fill-color);\n",
              "    }\n",
              "    20% {\n",
              "      border-color: transparent;\n",
              "      border-left-color: var(--fill-color);\n",
              "      border-top-color: var(--fill-color);\n",
              "    }\n",
              "    30% {\n",
              "      border-color: transparent;\n",
              "      border-left-color: var(--fill-color);\n",
              "      border-top-color: var(--fill-color);\n",
              "      border-right-color: var(--fill-color);\n",
              "    }\n",
              "    40% {\n",
              "      border-color: transparent;\n",
              "      border-right-color: var(--fill-color);\n",
              "      border-top-color: var(--fill-color);\n",
              "    }\n",
              "    60% {\n",
              "      border-color: transparent;\n",
              "      border-right-color: var(--fill-color);\n",
              "    }\n",
              "    80% {\n",
              "      border-color: transparent;\n",
              "      border-right-color: var(--fill-color);\n",
              "      border-bottom-color: var(--fill-color);\n",
              "    }\n",
              "    90% {\n",
              "      border-color: transparent;\n",
              "      border-bottom-color: var(--fill-color);\n",
              "    }\n",
              "  }\n",
              "</style>\n",
              "\n",
              "  <script>\n",
              "    async function quickchart(key) {\n",
              "      const quickchartButtonEl =\n",
              "        document.querySelector('#' + key + ' button');\n",
              "      quickchartButtonEl.disabled = true;  // To prevent multiple clicks.\n",
              "      quickchartButtonEl.classList.add('colab-df-spinner');\n",
              "      try {\n",
              "        const charts = await google.colab.kernel.invokeFunction(\n",
              "            'suggestCharts', [key], {});\n",
              "      } catch (error) {\n",
              "        console.error('Error during call to suggestCharts:', error);\n",
              "      }\n",
              "      quickchartButtonEl.classList.remove('colab-df-spinner');\n",
              "      quickchartButtonEl.classList.add('colab-df-quickchart-complete');\n",
              "    }\n",
              "    (() => {\n",
              "      let quickchartButtonEl =\n",
              "        document.querySelector('#df-0b0ab970-7618-479d-b4dc-2483f1d96854 button');\n",
              "      quickchartButtonEl.style.display =\n",
              "        google.colab.kernel.accessAllowed ? 'block' : 'none';\n",
              "    })();\n",
              "  </script>\n",
              "</div>\n",
              "\n",
              "    </div>\n",
              "  </div>\n"
            ],
            "application/vnd.google.colaboratory.intrinsic+json": {
              "type": "dataframe",
              "variable_name": "df",
              "summary": "{\n  \"name\": \"df\",\n  \"rows\": 2500,\n  \"fields\": [\n    {\n      \"column\": \"Temperature\",\n      \"properties\": {\n        \"dtype\": \"number\",\n        \"std\": 7.326996316570902,\n        \"min\": 10.001842485827652,\n        \"max\": 34.99521445292413,\n        \"num_unique_values\": 2500,\n        \"samples\": [\n          27.726270245388616,\n          21.034353583312157,\n          22.780544689342165\n        ],\n        \"semantic_type\": \"\",\n        \"description\": \"\"\n      }\n    },\n    {\n      \"column\": \"Humidity\",\n      \"properties\": {\n        \"dtype\": \"number\",\n        \"std\": 19.95473917219594,\n        \"min\": 30.005071474694454,\n        \"max\": 99.99748129798218,\n        \"num_unique_values\": 2500,\n        \"samples\": [\n          32.703593901953234,\n          46.94307300164749,\n          70.2714694704203\n        ],\n        \"semantic_type\": \"\",\n        \"description\": \"\"\n      }\n    },\n    {\n      \"column\": \"Wind_Speed\",\n      \"properties\": {\n        \"dtype\": \"number\",\n        \"std\": 5.780316036232058,\n        \"min\": 0.0098192760008686,\n        \"max\": 19.9991322551545,\n        \"num_unique_values\": 2500,\n        \"samples\": [\n          18.29647347878149,\n          15.470662334837735,\n          0.0354477234681338\n        ],\n        \"semantic_type\": \"\",\n        \"description\": \"\"\n      }\n    },\n    {\n      \"column\": \"Cloud_Cover\",\n      \"properties\": {\n        \"dtype\": \"number\",\n        \"std\": 29.123103660104814,\n        \"min\": 0.0150381080855521,\n        \"max\": 99.99779517807228,\n        \"num_unique_values\": 2500,\n        \"samples\": [\n          22.38770904060304,\n          56.015593685810906,\n          50.07304610270199\n        ],\n        \"semantic_type\": \"\",\n        \"description\": \"\"\n      }\n    },\n    {\n      \"column\": \"Pressure\",\n      \"properties\": {\n        \"dtype\": \"number\",\n        \"std\": 20.19643279398678,\n        \"min\": 980.0144863937444,\n        \"max\": 1049.985593365048,\n        \"num_unique_values\": 2500,\n        \"samples\": [\n          1008.5013134989348,\n          1040.4219578787954,\n          1022.488668342252\n        ],\n        \"semantic_type\": \"\",\n        \"description\": \"\"\n      }\n    },\n    {\n      \"column\": \"Rain\",\n      \"properties\": {\n        \"dtype\": \"category\",\n        \"num_unique_values\": 2,\n        \"samples\": [\n          \"no rain\",\n          \"rain\"\n        ],\n        \"semantic_type\": \"\",\n        \"description\": \"\"\n      }\n    }\n  ]\n}"
            }
          },
          "metadata": {},
          "execution_count": 44
        }
      ]
    },
    {
      "cell_type": "markdown",
      "source": [
        "#EDA"
      ],
      "metadata": {
        "id": "6BtoMSSyOR1y"
      }
    },
    {
      "cell_type": "code",
      "source": [
        "df['Rain'].hist()"
      ],
      "metadata": {
        "colab": {
          "base_uri": "https://localhost:8080/",
          "height": 447
        },
        "id": "cWmm-y4FOFLv",
        "outputId": "afe34809-a13d-498f-b80b-f62f3b8c921c"
      },
      "execution_count": 45,
      "outputs": [
        {
          "output_type": "execute_result",
          "data": {
            "text/plain": [
              "<Axes: >"
            ]
          },
          "metadata": {},
          "execution_count": 45
        },
        {
          "output_type": "display_data",
          "data": {
            "text/plain": [
              "<Figure size 640x480 with 1 Axes>"
            ],
            "image/png": "[encoded data removed]"
          },
          "metadata": {}
        }
      ]
    },
    {
      "cell_type": "markdown",
      "source": [
        "Even though the class is not evenly distributed, we continue since the scope of the project is to try implementing Naive- Bayes algorithm using pandas."
      ],
      "metadata": {
        "id": "Tp9KkDQGXgEd"
      }
    },
    {
      "cell_type": "code",
      "source": [
        "# Check for correlation between variables.\n",
        "corr_matrix = df.iloc[:,:-1].corr()\n",
        "plt.figure(figsize=(10, 6))\n",
        "sns.heatmap(corr_matrix, annot=True, cmap=\"coolwarm\", fmt=\".2f\")\n",
        "plt.title(\"Correlation Matrix\")\n",
        "plt.show()"
      ],
      "metadata": {
        "colab": {
          "base_uri": "https://localhost:8080/",
          "height": 545
        },
        "id": "0DPE9UqiRPYd",
        "outputId": "c1939847-4ff8-4912-a3c8-d423e0e8222c"
      },
      "execution_count": 46,
      "outputs": [
        {
          "output_type": "display_data",
          "data": {
            "text/plain": [
              "<Figure size 1000x600 with 2 Axes>"
            ],
            "image/png": "[encoded data removed]"
          },
          "metadata": {}
        }
      ]
    },
    {
      "cell_type": "markdown",
      "source": [
        "No correlation between x varibales. Therefore can use it all for prediction."
      ],
      "metadata": {
        "id": "kmRGzuJVYpcQ"
      }
    },
    {
      "cell_type": "markdown",
      "source": [
        "We keep all variables since correlation is less among the variables. Other methods can also be used to check if variables are independency. (chi- square test, anova etc..)"
      ],
      "metadata": {
        "id": "KyytIKkcYAwH"
      }
    },
    {
      "cell_type": "markdown",
      "source": [
        "Label encoding converts categorical values into numerical values, making them suitable for input in Naive Bayes."
      ],
      "metadata": {
        "id": "MBcNwSTOjVgN"
      }
    },
    {
      "cell_type": "code",
      "source": [
        "# Label encoding\n",
        "df['Rain'] = df['Rain'].replace({'rain': 1, 'no rain': 0})"
      ],
      "metadata": {
        "colab": {
          "base_uri": "https://localhost:8080/"
        },
        "id": "_P1mxyWQRmJ8",
        "outputId": "e5f7e04d-255e-483c-a230-c47b4410c7e9"
      },
      "execution_count": 47,
      "outputs": [
        {
          "output_type": "stream",
          "name": "stderr",
          "text": [
            "<ipython-input-47-c62346b2dd2d>:2: FutureWarning: Downcasting behavior in `replace` is deprecated and will be removed in a future version. To retain the old behavior, explicitly call `result.infer_objects(copy=False)`. To opt-in to the future behavior, set `pd.set_option('future.no_silent_downcasting', True)`\n",
            "  df['Rain'] = df['Rain'].replace({'rain': 1, 'no rain': 0})\n"
          ]
        }
      ]
    },
    {
      "cell_type": "code",
      "source": [
        "df.head()"
      ],
      "metadata": {
        "colab": {
          "base_uri": "https://localhost:8080/",
          "height": 204
        },
        "id": "JLp35soiRqM0",
        "outputId": "19058cb0-a769-40d8-857f-d3a20e26bfc8"
      },
      "execution_count": 48,
      "outputs": [
        {
          "output_type": "execute_result",
          "data": {
            "text/plain": [
              "   Temperature   Humidity  Wind_Speed  Cloud_Cover     Pressure  Rain\n",
              "0    23.720338  89.592641    7.335604    50.501694  1032.378759     1\n",
              "1    27.879734  46.489704    5.952484     4.990053   992.614190     0\n",
              "2    25.069084  83.072843    1.371992    14.855784  1007.231620     0\n",
              "3    23.622080  74.367758    7.050551    67.255282   982.632013     1\n",
              "4    20.591370  96.858822    4.643921    47.676444   980.825142     0"
            ],
            "text/html": [
              "\n",
              "  <div id=\"df-1c9ca410-2e42-4be1-8b48-796b307942c7\" class=\"colab-df-container\">\n",
              "    <div>\n",
              "<style scoped>\n",
              "    .dataframe tbody tr th:only-of-type {\n",
              "        vertical-align: middle;\n",
              "    }\n",
              "\n",
              "    .dataframe tbody tr th {\n",
              "        vertical-align: top;\n",
              "    }\n",
              "\n",
              "    .dataframe thead th {\n",
              "        text-align: right;\n",
              "    }\n",
              "</style>\n",
              "<table border=\"1\" class=\"dataframe\">\n",
              "  <thead>\n",
              "    <tr style=\"text-align: right;\">\n",
              "      <th></th>\n",
              "      <th>Temperature</th>\n",
              "      <th>Humidity</th>\n",
              "      <th>Wind_Speed</th>\n",
              "      <th>Cloud_Cover</th>\n",
              "      <th>Pressure</th>\n",
              "      <th>Rain</th>\n",
              "    </tr>\n",
              "  </thead>\n",
              "  <tbody>\n",
              "    <tr>\n",
              "      <th>0</th>\n",
              "      <td>23.720338</td>\n",
              "      <td>89.592641</td>\n",
              "      <td>7.335604</td>\n",
              "      <td>50.501694</td>\n",
              "      <td>1032.378759</td>\n",
              "      <td>1</td>\n",
              "    </tr>\n",
              "    <tr>\n",
              "      <th>1</th>\n",
              "      <td>27.879734</td>\n",
              "      <td>46.489704</td>\n",
              "      <td>5.952484</td>\n",
              "      <td>4.990053</td>\n",
              "      <td>992.614190</td>\n",
              "      <td>0</td>\n",
              "    </tr>\n",
              "    <tr>\n",
              "      <th>2</th>\n",
              "      <td>25.069084</td>\n",
              "      <td>83.072843</td>\n",
              "      <td>1.371992</td>\n",
              "      <td>14.855784</td>\n",
              "      <td>1007.231620</td>\n",
              "      <td>0</td>\n",
              "    </tr>\n",
              "    <tr>\n",
              "      <th>3</th>\n",
              "      <td>23.622080</td>\n",
              "      <td>74.367758</td>\n",
              "      <td>7.050551</td>\n",
              "      <td>67.255282</td>\n",
              "      <td>982.632013</td>\n",
              "      <td>1</td>\n",
              "    </tr>\n",
              "    <tr>\n",
              "      <th>4</th>\n",
              "      <td>20.591370</td>\n",
              "      <td>96.858822</td>\n",
              "      <td>4.643921</td>\n",
              "      <td>47.676444</td>\n",
              "      <td>980.825142</td>\n",
              "      <td>0</td>\n",
              "    </tr>\n",
              "  </tbody>\n",
              "</table>\n",
              "</div>\n",
              "    <div class=\"colab-df-buttons\">\n",
              "\n",
              "  <div class=\"colab-df-container\">\n",
              "    <button class=\"colab-df-convert\" onclick=\"convertToInteractive('df-1c9ca410-2e42-4be1-8b48-796b307942c7')\"\n",
              "            title=\"Convert this dataframe to an interactive table.\"\n",
              "            style=\"display:none;\">\n",
              "\n",
              "  <svg xmlns=\"http://www.w3.org/2000/svg\" height=\"24px\" viewBox=\"0 -960 960 960\">\n",
              "    <path d=\"M120-120v-720h720v720H120Zm60-500h600v-160H180v160Zm220 220h160v-160H400v160Zm0 220h160v-160H400v160ZM180-400h160v-160H180v160Zm440 0h160v-160H620v160ZM180-180h160v-160H180v160Zm440 0h160v-160H620v160Z\"/>\n",
              "  </svg>\n",
              "    </button>\n",
              "\n",
              "  <style>\n",
              "    .colab-df-container {\n",
              "      display:flex;\n",
              "      gap: 12px;\n",
              "    }\n",
              "\n",
              "    .colab-df-convert {\n",
              "      background-color: #E8F0FE;\n",
              "      border: none;\n",
              "      border-radius: 50%;\n",
              "      cursor: pointer;\n",
              "      display: none;\n",
              "      fill: #1967D2;\n",
              "      height: 32px;\n",
              "      padding: 0 0 0 0;\n",
              "      width: 32px;\n",
              "    }\n",
              "\n",
              "    .colab-df-convert:hover {\n",
              "      background-color: #E2EBFA;\n",
              "      box-shadow: 0px 1px 2px rgba(60, 64, 67, 0.3), 0px 1px 3px 1px rgba(60, 64, 67, 0.15);\n",
              "      fill: #174EA6;\n",
              "    }\n",
              "\n",
              "    .colab-df-buttons div {\n",
              "      margin-bottom: 4px;\n",
              "    }\n",
              "\n",
              "    [theme=dark] .colab-df-convert {\n",
              "      background-color: #3B4455;\n",
              "      fill: #D2E3FC;\n",
              "    }\n",
              "\n",
              "    [theme=dark] .colab-df-convert:hover {\n",
              "      background-color: #434B5C;\n",
              "      box-shadow: 0px 1px 3px 1px rgba(0, 0, 0, 0.15);\n",
              "      filter: drop-shadow(0px 1px 2px rgba(0, 0, 0, 0.3));\n",
              "      fill: #FFFFFF;\n",
              "    }\n",
              "  </style>\n",
              "\n",
              "    <script>\n",
              "      const buttonEl =\n",
              "        document.querySelector('#df-1c9ca410-2e42-4be1-8b48-796b307942c7 button.colab-df-convert');\n",
              "      buttonEl.style.display =\n",
              "        google.colab.kernel.accessAllowed ? 'block' : 'none';\n",
              "\n",
              "      async function convertToInteractive(key) {\n",
              "        const element = document.querySelector('#df-1c9ca410-2e42-4be1-8b48-796b307942c7');\n",
              "        const dataTable =\n",
              "          await google.colab.kernel.invokeFunction('convertToInteractive',\n",
              "                                                    [key], {});\n",
              "        if (!dataTable) return;\n",
              "\n",
              "        const docLinkHtml = 'Like what you see? Visit the ' +\n",
              "          '<a target=\"_blank\" href=https://colab.research.google.com/notebooks/data_table.ipynb>data table notebook</a>'\n",
              "          + ' to learn more about interactive tables.';\n",
              "        element.innerHTML = '';\n",
              "        dataTable['output_type'] = 'display_data';\n",
              "        await google.colab.output.renderOutput(dataTable, element);\n",
              "        const docLink = document.createElement('div');\n",
              "        docLink.innerHTML = docLinkHtml;\n",
              "        element.appendChild(docLink);\n",
              "      }\n",
              "    </script>\n",
              "  </div>\n",
              "\n",
              "\n",
              "<div id=\"df-ec57030e-c1f5-46e7-a7ac-c8fff85a5349\">\n",
              "  <button class=\"colab-df-quickchart\" onclick=\"quickchart('df-ec57030e-c1f5-46e7-a7ac-c8fff85a5349')\"\n",
              "            title=\"Suggest charts\"\n",
              "            style=\"display:none;\">\n",
              "\n",
              "<svg xmlns=\"http://www.w3.org/2000/svg\" height=\"24px\"viewBox=\"0 0 24 24\"\n",
              "     width=\"24px\">\n",
              "    <g>\n",
              "        <path d=\"M19 3H5c-1.1 0-2 .9-2 2v14c0 1.1.9 2 2 2h14c1.1 0 2-.9 2-2V5c0-1.1-.9-2-2-2zM9 17H7v-7h2v7zm4 0h-2V7h2v10zm4 0h-2v-4h2v4z\"/>\n",
              "    </g>\n",
              "</svg>\n",
              "  </button>\n",
              "\n",
              "<style>\n",
              "  .colab-df-quickchart {\n",
              "      --bg-color: #E8F0FE;\n",
              "      --fill-color: #1967D2;\n",
              "      --hover-bg-color: #E2EBFA;\n",
              "      --hover-fill-color: #174EA6;\n",
              "      --disabled-fill-color: #AAA;\n",
              "      --disabled-bg-color: #DDD;\n",
              "  }\n",
              "\n",
              "  [theme=dark] .colab-df-quickchart {\n",
              "      --bg-color: #3B4455;\n",
              "      --fill-color: #D2E3FC;\n",
              "      --hover-bg-color: #434B5C;\n",
              "      --hover-fill-color: #FFFFFF;\n",
              "      --disabled-bg-color: #3B4455;\n",
              "      --disabled-fill-color: #666;\n",
              "  }\n",
              "\n",
              "  .colab-df-quickchart {\n",
              "    background-color: var(--bg-color);\n",
              "    border: none;\n",
              "    border-radius: 50%;\n",
              "    cursor: pointer;\n",
              "    display: none;\n",
              "    fill: var(--fill-color);\n",
              "    height: 32px;\n",
              "    padding: 0;\n",
              "    width: 32px;\n",
              "  }\n",
              "\n",
              "  .colab-df-quickchart:hover {\n",
              "    background-color: var(--hover-bg-color);\n",
              "    box-shadow: 0 1px 2px rgba(60, 64, 67, 0.3), 0 1px 3px 1px rgba(60, 64, 67, 0.15);\n",
              "    fill: var(--button-hover-fill-color);\n",
              "  }\n",
              "\n",
              "  .colab-df-quickchart-complete:disabled,\n",
              "  .colab-df-quickchart-complete:disabled:hover {\n",
              "    background-color: var(--disabled-bg-color);\n",
              "    fill: var(--disabled-fill-color);\n",
              "    box-shadow: none;\n",
              "  }\n",
              "\n",
              "  .colab-df-spinner {\n",
              "    border: 2px solid var(--fill-color);\n",
              "    border-color: transparent;\n",
              "    border-bottom-color: var(--fill-color);\n",
              "    animation:\n",
              "      spin 1s steps(1) infinite;\n",
              "  }\n",
              "\n",
              "  @keyframes spin {\n",
              "    0% {\n",
              "      border-color: transparent;\n",
              "      border-bottom-color: var(--fill-color);\n",
              "      border-left-color: var(--fill-color);\n",
              "    }\n",
              "    20% {\n",
              "      border-color: transparent;\n",
              "      border-left-color: var(--fill-color);\n",
              "      border-top-color: var(--fill-color);\n",
              "    }\n",
              "    30% {\n",
              "      border-color: transparent;\n",
              "      border-left-color: var(--fill-color);\n",
              "      border-top-color: var(--fill-color);\n",
              "      border-right-color: var(--fill-color);\n",
              "    }\n",
              "    40% {\n",
              "      border-color: transparent;\n",
              "      border-right-color: var(--fill-color);\n",
              "      border-top-color: var(--fill-color);\n",
              "    }\n",
              "    60% {\n",
              "      border-color: transparent;\n",
              "      border-right-color: var(--fill-color);\n",
              "    }\n",
              "    80% {\n",
              "      border-color: transparent;\n",
              "      border-right-color: var(--fill-color);\n",
              "      border-bottom-color: var(--fill-color);\n",
              "    }\n",
              "    90% {\n",
              "      border-color: transparent;\n",
              "      border-bottom-color: var(--fill-color);\n",
              "    }\n",
              "  }\n",
              "</style>\n",
              "\n",
              "  <script>\n",
              "    async function quickchart(key) {\n",
              "      const quickchartButtonEl =\n",
              "        document.querySelector('#' + key + ' button');\n",
              "      quickchartButtonEl.disabled = true;  // To prevent multiple clicks.\n",
              "      quickchartButtonEl.classList.add('colab-df-spinner');\n",
              "      try {\n",
              "        const charts = await google.colab.kernel.invokeFunction(\n",
              "            'suggestCharts', [key], {});\n",
              "      } catch (error) {\n",
              "        console.error('Error during call to suggestCharts:', error);\n",
              "      }\n",
              "      quickchartButtonEl.classList.remove('colab-df-spinner');\n",
              "      quickchartButtonEl.classList.add('colab-df-quickchart-complete');\n",
              "    }\n",
              "    (() => {\n",
              "      let quickchartButtonEl =\n",
              "        document.querySelector('#df-ec57030e-c1f5-46e7-a7ac-c8fff85a5349 button');\n",
              "      quickchartButtonEl.style.display =\n",
              "        google.colab.kernel.accessAllowed ? 'block' : 'none';\n",
              "    })();\n",
              "  </script>\n",
              "</div>\n",
              "\n",
              "    </div>\n",
              "  </div>\n"
            ],
            "application/vnd.google.colaboratory.intrinsic+json": {
              "type": "dataframe",
              "variable_name": "df",
              "summary": "{\n  \"name\": \"df\",\n  \"rows\": 2500,\n  \"fields\": [\n    {\n      \"column\": \"Temperature\",\n      \"properties\": {\n        \"dtype\": \"number\",\n        \"std\": 7.326996316570902,\n        \"min\": 10.001842485827652,\n        \"max\": 34.99521445292413,\n        \"num_unique_values\": 2500,\n        \"samples\": [\n          27.726270245388616,\n          21.034353583312157,\n          22.780544689342165\n        ],\n        \"semantic_type\": \"\",\n        \"description\": \"\"\n      }\n    },\n    {\n      \"column\": \"Humidity\",\n      \"properties\": {\n        \"dtype\": \"number\",\n        \"std\": 19.95473917219594,\n        \"min\": 30.005071474694454,\n        \"max\": 99.99748129798218,\n        \"num_unique_values\": 2500,\n        \"samples\": [\n          32.703593901953234,\n          46.94307300164749,\n          70.2714694704203\n        ],\n        \"semantic_type\": \"\",\n        \"description\": \"\"\n      }\n    },\n    {\n      \"column\": \"Wind_Speed\",\n      \"properties\": {\n        \"dtype\": \"number\",\n        \"std\": 5.780316036232058,\n        \"min\": 0.0098192760008686,\n        \"max\": 19.9991322551545,\n        \"num_unique_values\": 2500,\n        \"samples\": [\n          18.29647347878149,\n          15.470662334837735,\n          0.0354477234681338\n        ],\n        \"semantic_type\": \"\",\n        \"description\": \"\"\n      }\n    },\n    {\n      \"column\": \"Cloud_Cover\",\n      \"properties\": {\n        \"dtype\": \"number\",\n        \"std\": 29.123103660104814,\n        \"min\": 0.0150381080855521,\n        \"max\": 99.99779517807228,\n        \"num_unique_values\": 2500,\n        \"samples\": [\n          22.38770904060304,\n          56.015593685810906,\n          50.07304610270199\n        ],\n        \"semantic_type\": \"\",\n        \"description\": \"\"\n      }\n    },\n    {\n      \"column\": \"Pressure\",\n      \"properties\": {\n        \"dtype\": \"number\",\n        \"std\": 20.19643279398678,\n        \"min\": 980.0144863937444,\n        \"max\": 1049.985593365048,\n        \"num_unique_values\": 2500,\n        \"samples\": [\n          1008.5013134989348,\n          1040.4219578787954,\n          1022.488668342252\n        ],\n        \"semantic_type\": \"\",\n        \"description\": \"\"\n      }\n    },\n    {\n      \"column\": \"Rain\",\n      \"properties\": {\n        \"dtype\": \"number\",\n        \"std\": 0,\n        \"min\": 0,\n        \"max\": 1,\n        \"num_unique_values\": 2,\n        \"samples\": [\n          0,\n          1\n        ],\n        \"semantic_type\": \"\",\n        \"description\": \"\"\n      }\n    }\n  ]\n}"
            }
          },
          "metadata": {},
          "execution_count": 48
        }
      ]
    },
    {
      "cell_type": "markdown",
      "source": [
        "# Guassian probability function"
      ],
      "metadata": {
        "id": "GSoLxvinkWtO"
      }
    },
    {
      "cell_type": "markdown",
      "source": [
        "## Naïve Bayes Classifier\n",
        "\n",
        "The Naïve Bayes classifier is based on **Bayes' Theorem**:\n",
        "\n",
        "$P(Y \\mid X) = \\frac{P(X \\mid Y) P(Y)}{P(X)}$\n",
        "\n",
        "<br>\n",
        "\n",
        "\n",
        "Since $P(X)$ is constant for all classes, we only need to calculate the numerator:\n",
        "\n",
        "$P(Y \\mid X) \\propto P(X \\mid Y) P(Y)$\n",
        "\n",
        "<br>\n",
        "\n",
        "For multiple independent features $X_1, X_2, ..., X_n$, the likelihood is:\n",
        "\n",
        "$P(Y \\mid X_1, X_2, ..., X_n) \\propto P(Y) \\prod_{i=1}^{n} P(X_i \\mid Y)$\n",
        "\n",
        "<br>\n",
        "\n",
        "\n",
        "If assuming a **Gaussian distribution**, the likelihood of a feature is given by:\n",
        "\n",
        "$P(X_i \\mid Y) = \\frac{1}{\\sqrt{2\\pi \\sigma^2}} \\exp \\left(-\\frac{(X_i - \\mu)^2}{2\\sigma^2} \\right)$\n",
        "\n",
        "where:\n",
        "\n",
        "- $\\mu$: Mean of the feature for class $Y$\n",
        "- $\\sigma$: Standard deviation of the feature for class $Y$\n",
        "\n",
        "\n",
        "<br>\n",
        "\n",
        "To classify a new sample, we compute **posterior probabilities** for each class and pick the class with the highest probability:\n",
        "\n",
        "$Y_{\\text{pred}} = \\arg\\max_Y P(Y) \\prod_{i=1}^{n} P(X_i \\mid Y)$\n",
        "\n"
      ],
      "metadata": {
        "id": "g4XJbMFmclV6"
      }
    },
    {
      "cell_type": "markdown",
      "source": [
        "**Goal:** Find the class $Y$ that maximizes the posterior probability.\n",
        "\n",
        "**Steps:**\n",
        "\n",
        "1.  **Calculate the Prior Probability:**  $P(Y)$\n",
        "    *   Estimate the prior probability for each class Y from the training data.  This is the proportion of samples belonging to class Y.\n",
        "\n",
        "2.  **Calculate the Likelihood:** $\\prod_{i=1}^{n} P(X_i \\mid Y)$\n",
        "    *   For each feature $X_i$ and class $Y$, calculate the conditional probability $P(X_i \\mid Y)$ using the Gaussian distribution formula above.\n",
        "    *   Multiply these probabilities together across all features to get the likelihood for class $Y$.\n",
        "\n",
        "3.  **Calculate Naïve Bayes and Predict:**\n",
        "    *   For each class $Y$, calculate: `Naive_Bayes_Score(Y) = P(Y) *  Likelihood(Y)`\n",
        "    *   Predict the class with the highest Naïve Bayes score:\n",
        "        $Y_{\\text{pred}} = \\arg\\max_Y P(Y) \\prod_{i=1}^{n} P(X_i \\mid Y)$"
      ],
      "metadata": {
        "id": "DdS8LT0Ag91r"
      }
    },
    {
      "cell_type": "code",
      "source": [
        "# Calculate prior P(Y=y)\n",
        "def calculate_prior(df,Y):\n",
        "  arr = []\n",
        "  classes = df[Y].unique()\n",
        "  for clas in classes:\n",
        "    clas_div_total = len(df[df[Y]==clas])/ len(df)\n",
        "    arr.append(clas_div_total)\n",
        "  return arr\n",
        "\n"
      ],
      "metadata": {
        "id": "GHTQ6FtRRFeX"
      },
      "execution_count": 49,
      "outputs": []
    },
    {
      "cell_type": "code",
      "source": [
        "calculate_prior(df,'Rain')"
      ],
      "metadata": {
        "colab": {
          "base_uri": "https://localhost:8080/"
        },
        "id": "kouMpRQbS3Lg",
        "outputId": "10690540-dfc2-4a3e-cfa8-d92c3ff6636a"
      },
      "execution_count": 50,
      "outputs": [
        {
          "output_type": "execute_result",
          "data": {
            "text/plain": [
              "[0.1256, 0.8744]"
            ]
          },
          "metadata": {},
          "execution_count": 50
        }
      ]
    },
    {
      "cell_type": "code",
      "source": [
        "# Calculate the Likelihood value\n",
        "def likelihood(df, feature_name, feature_value, Y,label):  # input data, X,x0, Y, y\n",
        "\n",
        "  df = df[df[Y]==label]\n",
        "  x_mean = df[feature_name].mean()\n",
        "\n",
        "\n",
        "\n",
        "  stdev =  df[feature_name].std()\n",
        "\n",
        "  if stdev == 0:\n",
        "        stdev = 1e-6  # Small constant to avoid ZeroDivisionError\n",
        "\n",
        "  exponent = exp(-((feature_value- x_mean)**2 / (2 * stdev**2 )))\n",
        "\n",
        "  p_X_given_Y = (1 / (sqrt(2 * pi) * stdev)) * exponent\n",
        "  return p_X_given_Y\n"
      ],
      "metadata": {
        "id": "CZMEj5b8Xwm4"
      },
      "execution_count": 51,
      "outputs": []
    },
    {
      "cell_type": "code",
      "source": [
        "likelihood(df,'Temperature',23.319913429721986, 'Rain',0)"
      ],
      "metadata": {
        "colab": {
          "base_uri": "https://localhost:8080/"
        },
        "id": "vT6MH9OH_scD",
        "outputId": "672baa33-08a4-4271-e1d4-52c23a9e0bf2"
      },
      "execution_count": 52,
      "outputs": [
        {
          "output_type": "execute_result",
          "data": {
            "text/plain": [
              "0.05408105339241624"
            ]
          },
          "metadata": {},
          "execution_count": 52
        }
      ]
    },
    {
      "cell_type": "markdown",
      "source": [
        "# Implementing the Naive-Bayes classifier"
      ],
      "metadata": {
        "id": "fMgnCFVTLYoq"
      }
    },
    {
      "cell_type": "code",
      "source": [
        "# calculate posterior = prior * likelihood for each class and find argmax.\n",
        "def naive_bayes(df,X,Y):\n",
        "\n",
        "  unique_labels = sorted(df[Y].unique())\n",
        "  features = list(df.columns)[:-1]\n",
        "\n",
        "  prior = calculate_prior(df,Y)\n",
        "\n",
        "  final = []\n",
        "\n",
        "  for x in X: # loop over each row of test data\n",
        "\n",
        "    rhs = []\n",
        "    for j in range(len(unique_labels)): # loop over each Y value (yes, no)\n",
        "      likely = 1\n",
        "\n",
        "      # Find Right handside value of the formula here\n",
        "\n",
        "      for i in range(len(features)): # loop over each column of the dataset df to get likelihood\n",
        "        likely = likely* likelihood(df,features[i],x[i],Y,unique_labels[j])\n",
        "\n",
        "      rhs.append(likely*prior[j])\n",
        "\n",
        "    #print(rhs)\n",
        "    final.append(np.argmax(rhs))\n",
        "\n",
        "  return final"
      ],
      "metadata": {
        "id": "cmTcxF6gCqbw"
      },
      "execution_count": 53,
      "outputs": []
    },
    {
      "cell_type": "code",
      "source": [
        "# Testing the naive_Bayes function\n",
        "Test = df.iloc[:,:-1]\n",
        "naive_bayes(df,Test.iloc[0:2].values.tolist(),'Rain')"
      ],
      "metadata": {
        "colab": {
          "base_uri": "https://localhost:8080/"
        },
        "collapsed": true,
        "id": "hKdlYPw3CqYo",
        "outputId": "db114359-83b2-41f8-a8fa-b0644199c244"
      },
      "execution_count": 54,
      "outputs": [
        {
          "output_type": "execute_result",
          "data": {
            "text/plain": [
              "[1, 0]"
            ]
          },
          "metadata": {},
          "execution_count": 54
        }
      ]
    },
    {
      "cell_type": "code",
      "source": [
        "from sklearn.model_selection import train_test_split\n",
        "from sklearn.metrics import confusion_matrix, f1_score\n",
        "\n",
        "\n",
        "train, test = train_test_split(df, test_size=.2, random_state=49)   # Train, test dataset split\n",
        "\n",
        "X_test = test.iloc[:,: -1].values # Remove the Y column\n",
        "Y_test = test.iloc[:,-1].values   # Keep the Y column\n",
        "\n",
        "Y_pred = naive_bayes(train, X= X_test,Y= \"Rain\")   # Apply Naive - Bayes algorithm\n",
        "\n",
        "print(\"Confusion Matrix:\")\n",
        "print(confusion_matrix( Y_test, Y_pred))\n",
        "print('\\n')\n",
        "print(\"f1 Score:\")\n",
        "print(f1_score(Y_test, Y_pred))"
      ],
      "metadata": {
        "colab": {
          "base_uri": "https://localhost:8080/"
        },
        "id": "_TIU9q0Y2jXz",
        "outputId": "28420953-00d6-457e-894a-fa68cbcda4e9"
      },
      "execution_count": 55,
      "outputs": [
        {
          "output_type": "stream",
          "name": "stdout",
          "text": [
            "Confusion Matrix:\n",
            "[[430   0]\n",
            " [ 21  49]]\n",
            "\n",
            "\n",
            "f1 Score:\n",
            "0.8235294117647058\n"
          ]
        }
      ]
    },
    {
      "cell_type": "markdown",
      "source": [
        "# References"
      ],
      "metadata": {
        "id": "3-emF3yIlcOS"
      }
    },
    {
      "cell_type": "markdown",
      "source": [
        "**Comments:** The Naive Bayes algorithm has been successfully implemented using pandas. However, there are potential improvements that can be made, such as balancing the unbalanced Y variable, applying smoothing techniques, and converting continuous variables into categorical ones before implementing Naive Bayes."
      ],
      "metadata": {
        "id": "cpRY506d5R7J"
      }
    },
    {
      "cell_type": "markdown",
      "source": [
        "I used several websites and videos for understanding the concepts and applying them in pandas.\n",
        "\n",
        "1. https://web.stanford.edu/~jurafsky/slp3/4.pdf\n",
        "2. https://www.youtube.com/watch?v=H3EjCKtlVog\n",
        "3. https://www.youtube.com/watch?v=3I8oX3OUL6I&t=638s"
      ],
      "metadata": {
        "id": "tlD0fBGGlgq5"
      }
    }
  ]
}